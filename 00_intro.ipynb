{
 "cells": [
  {
   "cell_type": "markdown",
   "metadata": {},
   "source": [
    "## Lab 03.00 - Intro to Notebooks and Matplotlib"
   ]
  },
  {
   "cell_type": "markdown",
   "metadata": {},
   "source": [
    "### Part 0 - Exploring Jupyter Notebooks\n",
    "\n",
    "Welcome to your first Jupyter Notebook! Before we dive into Matplotlib, let's explore some features of Jupyter Notebooks."
   ]
  },
  {
   "cell_type": "markdown",
   "metadata": {},
   "source": [
    "#### 0.0 - Notebook Structure and Cells\n",
    "A Jupyter Notebook is made up of a series of cells. Each cell can contain either python code or markdown.\n",
    "\n",
    "This structure allows you to mix explanations with executable code, making it an excellent tool for data analysis, teaching, and sharing your work.\n",
    "\n",
    "To **create** a new block hover over an exisiting block, two buttons will appear, you can choose to create a Code or Markdown cell. This will place the block directly beneath the existing"
   ]
  },
  {
   "cell_type": "markdown",
   "metadata": {},
   "source": [
    "#### 0.1 - Markdown Cells\n",
    "\n",
    "This is a markdown cell. You can use it to write formatted text, including:\n",
    "\n",
    "- **Bold text**\n",
    "- *Italic text*\n",
    "- `Code snippets`\n",
    "- Lists (like this one!)"
   ]
  },
  {
   "cell_type": "markdown",
   "metadata": {},
   "source": [
    "##### Exercise 00\n",
    "Double-click on this cell to see its raw markdown content. Then, create a **new** markdown cell *directly* below this one and try formatting your own text. Include a heading, a list, and some bold or italic text.\n",
    "\n",
    "Make sure to save Markdown cells by clicking the Check button that appears when editing a cell in the top-right"
   ]
  },
  {
   "cell_type": "markdown",
   "metadata": {},
   "source": [
    "#### 0.2 - Code Cells\n",
    "The cell below is a code cell. You can write and execute Python code in these cells.\n",
    "\n",
    "You can click on the play button next to the cell to execute it and see its output"
   ]
  },
  {
   "cell_type": "code",
   "execution_count": null,
   "metadata": {},
   "outputs": [],
   "source": [
    "# This is a comment in a code cell\n",
    "\n",
    "print(\"Hello, Jupyter!\")"
   ]
  },
  {
   "cell_type": "markdown",
   "metadata": {},
   "source": [
    "##### Exercise 02\n",
    "Create a new code cell *directly* below this one. Write Python code that takes a name as input, and then prints that input with a greeting for example: `Howdy, Mr. Forlenza`"
   ]
  },
  {
   "cell_type": "markdown",
   "metadata": {},
   "source": [
    "#### 0.3 - Deleting Cells\n",
    "\n",
    "To delete a cell, select it and click the trash icon that appears on the top right of the cell\n",
    "\n",
    "##### Excercise 03\n",
    "Delete the cell **below** this one"
   ]
  },
  {
   "cell_type": "markdown",
   "metadata": {},
   "source": [
    "<center>\n",
    "    <img src=\"https://www.recovery-estonia.ee/wp-content/uploads/2017/02/deleted-file-recovery.jpg\" width=300>\n",
    "</center>"
   ]
  },
  {
   "cell_type": "markdown",
   "metadata": {},
   "source": [
    "#### 0.4 - Collapsing and Expanding Code Cells\n",
    "\n",
    "Jupyter Notebooks allow you to collapse code cells, which can be useful when you want to focus on specific parts of your notebook or when you're presenting your work.\n",
    "\n",
    "To collapse a code cell:\n",
    "1. Run the cell first (the output will still be visible when collapsed)\n",
    "2. Click on the small line to left of the cell (or double-click on the left sidebar of the cell)\n",
    "\n",
    "To expand a collapsed cell, simply click on the blue line again."
   ]
  },
  {
   "cell_type": "markdown",
   "metadata": {},
   "source": [
    "##### Exercise 04\n",
    "1. Run the code cell below\n",
    "2. Try collapsing it using the method described above\n",
    "3. Expand it again"
   ]
  },
  {
   "cell_type": "code",
   "execution_count": null,
   "metadata": {},
   "outputs": [],
   "source": [
    "print(\"Hello, I'm a collapsible cell!\")\n",
    "for i in range(10):\n",
    "    print(f\"Line {i+1}\")"
   ]
  },
  {
   "cell_type": "markdown",
   "metadata": {},
   "source": [
    "Collapsing cells can help keep your notebook tidy, especially when you have long code blocks or output that you don't need to see all the time.\n",
    "\n",
    "Now that you're familiar with the basics of Jupyter Notebooks, let's move on to our Matplotlib lab!"
   ]
  },
  {
   "cell_type": "markdown",
   "metadata": {},
   "source": [
    "### Part 1 - Intro with Matplotlib\n",
    "Before we dive into using Matplotlib, let's explore its context and significance in the data visualization landscape. \n",
    "\n",
    "To answer the questions, edit the markdown cell and put your answer below the question. \n",
    "\n",
    "**Make sure to save the markdown cell, by pressing the ✓ (check) icon in the top right after answering the questions**\n",
    "\n",
    "Research and critically think about the following questions:"
   ]
  },
  {
   "attachments": {},
   "cell_type": "markdown",
   "metadata": {},
   "source": [
    "##### Question 00\n",
    "What is Matplotlib, and what are its primary functions in data visualization for data science?\n",
    "- **Answer:** Matplotlib is a Python library for creating static and interactive visualizations. It allows data scientists to produce various chart types, including line plots, bar charts, and histograms.\n",
    "\n",
    "##### Question 01\n",
    "Describe three common types of plots that can be created with Matplotlib\n",
    "- **Answer:**  Line graph, bar graph, and scatter plot"
   ]
  },
  {
   "cell_type": "markdown",
   "metadata": {},
   "source": [
    "Now that you've explored Matplotlib's role in data science, let's dive into using it!\n",
    "\n",
    "By the end of this lab, you'll have a solid foundation in creating and customizing various types of plots using Matplotlib. This skill is crucial for data analysis, as visualizing your data can reveal patterns, trends, and insights that might not be apparent from raw numbers alone.\n",
    "\n",
    "Let's get started by importing Matplotlib and creating our first plot!"
   ]
  },
  {
   "cell_type": "markdown",
   "metadata": {},
   "source": [
    "First, let's install the matplotlib library, in your terminal run the following command:\n",
    "\n",
    "```bash\n",
    "pip3 install matplotlib\n",
    "```"
   ]
  },
  {
   "cell_type": "markdown",
   "metadata": {},
   "source": [
    "Now, let's import the necessary library:"
   ]
  },
  {
   "cell_type": "code",
   "execution_count": null,
   "metadata": {},
   "outputs": [],
   "source": [
    "import matplotlib.pyplot as plt"
   ]
  },
  {
   "cell_type": "markdown",
   "metadata": {},
   "source": [
    "#### 1.0 - Basic Figure and Plotting\n",
    "Before we create our plots, let's explore some basic Matplotlib functions to understand how they work. We'll experiment with different functions and observe what they do."
   ]
  },
  {
   "cell_type": "code",
   "execution_count": null,
   "metadata": {},
   "outputs": [],
   "source": [
    "plt.plot([1, 2, 3], [1, 2, 3])\n",
    "plt.title(\"My Graph\")"
   ]
  },
  {
   "attachments": {},
   "cell_type": "markdown",
   "metadata": {},
   "source": [
    "##### Question 02\n",
    "What happened when we called `plt.plot()`? Try commenting it out and see what changes.\n",
    "- **Answer:**  When `plt.plot()` is called, it creates a line plot using the provided data, but if commented out, no data will be visualized on the resulting figure.\n",
    "\n",
    "##### Question 03\n",
    "What do the two lists in `plt.plot()` refer to? Try changing the numbers and see what changes.\n",
    "- **Answer:**  The two lists in `plt.plot()` typically represent the x-coordinates and y-coordinates of the data points to be plotted, respectively, and changing these numbers will alter the position of the plotted points on the graph.\n",
    "\n",
    "##### Question 04\n",
    "What does the `plt.title()` function do? What happens if you comment it out?\n",
    "- **Answer:** The `plt.title()` function adds a title to the plot, and if commented out, the plot will be displayed without a title"
   ]
  },
  {
   "cell_type": "markdown",
   "metadata": {},
   "source": [
    "#### 1.2 - Sizing"
   ]
  },
  {
   "cell_type": "code",
   "execution_count": null,
   "metadata": {},
   "outputs": [],
   "source": [
    "plt.figure(figsize=(3, 3))\n",
    "plt.plot([1, 2, 3], [1, 2, 3])\n",
    "plt.title('Figure #1')\n",
    "\n",
    "plt.figure(figsize=(10, 5)\n",
    "plt.plot([1, 2, 3], [1, 2, 3])\n",
    "plt.title('Figure #2')"
   ]
  },
  {
   "attachments": {},
   "cell_type": "markdown",
   "metadata": {},
   "source": [
    "##### Question 05\n",
    "What do the numbers in `figsize=(10, 5)` control? Try changing them and observe what happens.\n",
    "- **Answer:** The numbers in `figsize=(10, 5)` control the width (10 inches) and height (5 inches) of the figure, respectively, and changing them will alter the overall dimensions of the plot\n",
    "\n",
    "##### Question 06\n",
    "In what scenario would changing `figsize` be useful in data visualization?\n",
    "- **Answer:** Changing `figsize` is useful when you need to adjust the dimensions of a plot to better fit the data, improve readability, or meet specific size requirements for publication or presentation"
   ]
  },
  {
   "cell_type": "markdown",
   "metadata": {},
   "source": [
    "#### 1.3 - Colors and Styles"
   ]
  },
  {
   "cell_type": "code",
   "execution_count": null,
   "metadata": {},
   "outputs": [],
   "source": [
    "plt.figure(figsize=(10, 6))\n",
    "\n",
    "plt.plot([1, 2, 3], [1, 2, 3], color='red')\n",
    "plt.plot([1, 2, 3], [2, 3, 4], color='blue')\n",
    "plt.plot([1, 2, 3], [3, 4, 5], color='green', linestyle='--')\n",
    "\n",
    "plt.title('Different Line Styles')\n",
    "plt.show()"
   ]
  },
  {
   "attachments": {},
   "cell_type": "markdown",
   "metadata": {},
   "source": [
    "##### Question 07\n",
    "What did we change in our `plt.plot()` functions to modify a line's color? What other types values do you think we use here? (think CSS)\n",
    "- **Answer:** Changed the color parameter in our `plt.plot()` functions to modify a line's color. Other color values that can be used include named colors (e.g., 'red', 'blue', 'green') or hexadecimal color codes.\n",
    "\n",
    "##### Question 08\n",
    "What did we change in our `plt.plot()` functions to modify the style of a line? What other linestyles are available for us to use in matplotlib? [Documentation](https://matplotlib.org/stable/).\n",
    "- **Answer:** Changed the `linestyle` parameter in our `plt.plot()` functions to modify the style of a line. Other linestyles available in Matplotlib include '-' , '--' , ':' , and '-.' "
   ]
  },
  {
   "cell_type": "markdown",
   "metadata": {},
   "source": [
    "#### 1.4 - Labels & Text"
   ]
  },
  {
   "cell_type": "code",
   "execution_count": null,
   "metadata": {},
   "outputs": [],
   "source": [
    "plt.figure(figsize=(10, 6))\n",
    "plt.plot([1, 2, 3], [1, 2, 3])\n",
    "plt.title('My First Plot', pad=20)\n",
    "plt.xlabel('X values')\n",
    "plt.ylabel('Y values')\n",
    "plt.show()"
   ]
  },
  {
   "attachments": {},
   "cell_type": "markdown",
   "metadata": {},
   "source": [
    "##### Question 09\n",
    "What does the pad=20 in `plt.title()` do? Try different numbers.\n",
    "- **Answer:** The `pad=20` in `plt.title()` adds padding between the title and the plot. Trying different numbers will adjust the amount of space between the title and the plot.\n",
    "\n",
    "##### Question 10\n",
    "What does the functions `xlabel` and `ylabel` do? Try commenting them out.\n",
    "- **Answer:** The functions `xlabel` and `ylabel` add labels to the x-axis and y-axis of the plot, respectively. If commented out, the axes will not have labels, making it harder to understand what the axes represent,"
   ]
  },
  {
   "cell_type": "markdown",
   "metadata": {},
   "source": [
    "#### 1.5 - Backgrounds"
   ]
  },
  {
   "cell_type": "code",
   "execution_count": null,
   "metadata": {},
   "outputs": [],
   "source": [
    "plt.figure(figsize=(10, 6), facecolor='lightgray')\n",
    "plt.plot([1, 2, 3, 4], [1, 4, 2, 3])\n",
    "plt.title('Gray Figure Background')\n",
    "plt.show()"
   ]
  },
  {
   "attachments": {},
   "cell_type": "markdown",
   "metadata": {},
   "source": [
    "##### Question 11\n",
    "What changed when we added `facecolor='lightgray'` to `plt.figure`?\n",
    "- **Answer:** Adding `facecolor='lightgray'` to `plt.figure` changed the background color of the entire figure to light gray.\n",
    "\n",
    "##### Question 12\n",
    "What didnt change in this example? Hyposthesize why the whole graph did not change color.\n",
    "- **Answer:** The plot area didn't change color in this example. This is because `facecolor` in `plt.figure` only affects the outer area of the figure, not the plot area itself."
   ]
  },
  {
   "cell_type": "markdown",
   "metadata": {},
   "source": [
    "Now let's change the plot area (inner) background"
   ]
  },
  {
   "cell_type": "code",
   "execution_count": null,
   "metadata": {},
   "outputs": [],
   "source": [
    "plt.figure(figsize=(10, 6))\n",
    "ax = plt.gca()  # get current axes\n",
    "ax.set_facecolor('lightyellow')\n",
    "plt.plot([1, 2, 3, 4], [1, 4, 2, 3])\n",
    "plt.title('Yellow Plot Area Background')"
   ]
  },
  {
   "attachments": {},
   "cell_type": "markdown",
   "metadata": {},
   "source": [
    "##### Question 13\n",
    "What's the difference between `plt.figure(facecolor='...')` and `ax.set_facecolor('...')`?\n",
    "- **Answer:** `plt.figure(facecolor='...')` sets the background color of the entire figure, including the area around the plot. `ax.set_facecolor('...')` sets the background color of the plot area only.\n",
    "\n",
    "##### Question 14\n",
    "Why have two seperate functions for setting the background? Create a scenario in which that would be useful.\n",
    "- **Answer:** Having two separate functions for setting the background is useful when you want to create contrast between the plot area and the surrounding figure area. For example, you might want a white plot area for clarity, but a colored background for the overall figure to make it stand out on a page or presentation slide."
   ]
  },
  {
   "cell_type": "markdown",
   "metadata": {},
   "source": [
    "##### Exercise 05\n",
    "Now that we understand how these functions work, it's your turn!\n",
    "\n",
    "Add a codeblock directly below this cell and write code to create your own plot that uses at least all the different Matplotlib functions we explored so far.\n",
    "For each function you use, add a comment explaining what it does.\n",
    "\n",
    "Your graph should be visually pleasing, use online resources for inspiration of color schemes."
   ]
  },
  {
   "cell_type": "markdown",
   "metadata": {},
   "source": [
    "### Part 2 - Matplotlib's Graphs\n",
    "Now that we have the foundations of matplotlib down, let's explore the various types of graphs we can build.\n",
    "\n",
    "To answer the questions, edit the markdown cell and put your answer below the question. \n",
    "\n",
    "**Make sure to save the markdown cell, by pressing the ✓ (check) icon in the top right after answering the questions**"
   ]
  },
  {
   "cell_type": "markdown",
   "metadata": {},
   "source": [
    "#### 2.0 - Line Plot\n",
    "Let's start with a simple line plot."
   ]
  },
  {
   "cell_type": "code",
   "execution_count": null,
   "metadata": {},
   "outputs": [],
   "source": [
    "month = [1, 2, 3, 4, 5, 6]\n",
    "sales = [2, 4, 5, 8, 9, 12]\n",
    "\n",
    "plt.figure(figsize=(10, 6))\n",
    "plt.plot(month, sales)\n",
    "plt.title('Monthly Sales')\n",
    "plt.xlabel('Month')\n",
    "plt.ylabel('Sales (thousands)')\n",
    "plt.grid(True)\n",
    "plt.show()"
   ]
  },
  {
   "attachments": {},
   "cell_type": "markdown",
   "metadata": {},
   "source": [
    "##### Question 15\n",
    "What is the general trend in this data? Is it going up, down, or staying the same?\n",
    "- **Answer:** The general trend in this data is going up. The sales are increasing over the months.\n",
    "\n",
    "##### Question 16 \n",
    "Looking at the numbers on the y-axis, what was the lowest sales amount? What was the highest?\n",
    "- **Answer:** Looking at the numbers on the y-axis, the lowest sales amount was 2 thousand, and the highest was 12 thousand.\n",
    "\n",
    "##### Question 17\n",
    "When would a line plot be useful? Pick one from these scenarios and explain why: <br>\n",
    "a) Showing temperature changes throughout a day <br>\n",
    "b) Comparing the number of students in different grades <br>\n",
    "c) Showing favorite ice cream flavors in your class <br>\n",
    "- **Answer:** A line plot would be most useful for scenario a) Showing temperature changes throughout a day. This is because temperature changes are continuous data that can be well represented by a line showing the trend over time.\n"
   ]
  },
  {
   "cell_type": "markdown",
   "metadata": {},
   "source": [
    "#### 2.1 - Scatter Plot\n",
    "Let's look at some data about students' study time and test scores:"
   ]
  },
  {
   "cell_type": "code",
   "execution_count": null,
   "metadata": {},
   "outputs": [],
   "source": [
    "study_hours = [1, 2, 2, 3, 4, 4, 5, 5, 6]\n",
    "test_scores = [65, 70, 75, 80, 85, 85, 90, 95, 100]\n",
    "\n",
    "plt.figure(figsize=(10, 6))\n",
    "plt.scatter(study_hours, test_scores)\n",
    "plt.title('Study Time vs. Test Scores')\n",
    "plt.xlabel('Hours Studied')\n",
    "plt.ylabel('Test Score')\n",
    "plt.show()"
   ]
  },
  {
   "attachments": {},
   "cell_type": "markdown",
   "metadata": {},
   "source": [
    "##### Question 18\n",
    "Compare the above code block to the line plot and examine what is different. Which function was used to create a scatter plot?\n",
    "- **Answer:** The function used to create a scatter plot is `plt.scatter()`, as opposed to `plt.plot()` used for the line plot.\n",
    "\n",
    "##### Question 19\n",
    "What does each dot in this scatter plot represent?\n",
    "- **Answer:** Each dot in this scatter plot represents a student, with their study hours on the x-axis and their test score on the y-axis.\n",
    "\n",
    "##### Question 20\n",
    "What happens to test scores as study hours increase?\n",
    "- **Answer:** As study hours increase, test scores tend to increase as well, showing a positive correlation between study time and test performance."
   ]
  },
  {
   "cell_type": "markdown",
   "metadata": {},
   "source": [
    "##### Exercise 06\n",
    "Add a code block directly below this one and create your own scatter plot about something that interests you. Some ideas:\n",
    "- Hours of sleep vs. energy level\n",
    "- Time spent practicing vs. points scored in a game\n",
    "- Number of videos watched vs. understanding of a topic\n",
    "Include at least 6 points and proper labels!"
   ]
  },
  {
   "cell_type": "markdown",
   "metadata": {},
   "source": [
    "#### 2.2 - Bar Plot\n",
    "Let's look at the favorite pets in a classroom:"
   ]
  },
  {
   "cell_type": "code",
   "execution_count": null,
   "metadata": {},
   "outputs": [],
   "source": [
    "categories = ['Dogs', 'Cats', 'Fish', 'Birds']\n",
    "values = [12, 8, 3, 2]\n",
    "\n",
    "plt.figure(figsize=(10, 6))\n",
    "plt.bar(categories, values)\n",
    "plt.title('Favorite Pets in Class')\n",
    "plt.xlabel('Pet Type')\n",
    "plt.ylabel('Number of Students')\n",
    "plt.show()"
   ]
  },
  {
   "attachments": {},
   "cell_type": "markdown",
   "metadata": {},
   "source": [
    "##### Question 21\n",
    "Which pet is the most popular? How many students chose it?\n",
    "- **Answer:** Dogs are the most popular pet. 12 students chose dogs.\n",
    "\n",
    "##### Question 22\n",
    "How many students in total were surveyed?\n",
    "- **Answer:** In total, 25 students were surveyed.\n"
   ]
  },
  {
   "cell_type": "markdown",
   "metadata": {},
   "source": [
    "##### Exercise 07\n",
    "Add a code block directly below this one and create your own bar plot showing how you spend your time after school. Include:\n",
    "- At least 4 different activities\n",
    "- The number of hours spent on each\n",
    "- Clear labels saying what the plot shows"
   ]
  },
  {
   "cell_type": "markdown",
   "metadata": {},
   "source": [
    "#### 2.3 - Histogram\n",
    "Let's look at the distribution of heights in a class:"
   ]
  },
  {
   "cell_type": "code",
   "execution_count": null,
   "metadata": {},
   "outputs": [],
   "source": [
    "heights = [65, 68, 67, 67, 70, 65, 68, 69, 66, 71, \n",
    "           67, 68, 68, 69, 70, 67, 66, 67, 68, 69]\n",
    "\n",
    "plt.figure(figsize=(10, 6))\n",
    "plt.hist(heights, bins=6, edgecolor='black')\n",
    "plt.title('Student Heights')\n",
    "plt.xlabel('Height (inches)')\n",
    "plt.ylabel('Number of Students')\n",
    "plt.show()"
   ]
  },
  {
   "attachments": {},
   "cell_type": "markdown",
   "metadata": {},
   "source": [
    "##### Question 23\n",
    "What height range appears most common in the class?\n",
    "- **Answer:** The most common height range appears to be around 67-68 inches.\n",
    "\n",
    "##### Question 24\n",
    "About how many students are in the tallest group?\n",
    "- **Answer:** About 6-7 students are in the tallest group.\n",
    "\n",
    "##### Question 25\n",
    "What does the `bins=6` argument do in the `plt.hist()` function? Try changing the value to see what happens\n",
    "- **Answer:** The `bins=6` argument in the `plt.hist()` function determines the number of bars (or bins) in the histogram. Changing this value will adjust how the data is grouped and displayed.\n",
    "\n",
    "##### Question 26\n",
    "Why would you want different amount of bins in a histogram chart?\n",
    "- **Answer:** Different numbers of bins in a histogram can be useful for revealing different patterns in the data. Fewer bins can show broad trends, while more bins can reveal finer details in the distribution."
   ]
  },
  {
   "cell_type": "markdown",
   "metadata": {},
   "source": [
    "### Part 3 - Conclusion\n",
    "Congratulations! You've completed the Introduction to Jupyter Notebooks and the Matplotlib lab. You should now have a good understanding of how to use Jupyter Notebooks and create various types of plots using Matplotlib.\n",
    "\n",
    "For each of the data scenario below, determine what graph would be best used to represent it and explain why"
   ]
  },
  {
   "attachments": {},
   "cell_type": "markdown",
   "metadata": {},
   "source": [
    "##### Question 27\n",
    "Which graph would best suit showing how temperatures change during a week\n",
    "- **Answer:** A line graph would be best suited for showing how temperatures change during a week. This allows for a clear visualization of the temperature trend over time.\n",
    "\n",
    "##### Question 28\n",
    "Which graph would best suit showing the number of students who chose different sports\n",
    "- **Answer:** A bar graph would be best suited for showing the number of students who chose different sports. This allows for easy comparison between discrete categories.\n",
    "\n",
    "##### Question 29\n",
    "Which graph would best suit showing the relationship between time spent on social media and grades\n",
    "- **Answer:** A scatter plot would be best suited for showing the relationship between time spent on social media and grades. This allows for visualization of potential correlation between two continuous variables."
   ]
  }
 ],
 "metadata": {
  "kernelspec": {
   "display_name": "Python 3",
   "language": "python",
   "name": "python3"
  },
  "language_info": {
   "codemirror_mode": {
    "name": "ipython",
    "version": 3
   },
   "file_extension": ".py",
   "mimetype": "text/x-python",
   "name": "python",
   "nbconvert_exporter": "python",
   "pygments_lexer": "ipython3",
   "version": "3.10.9 (main, Dec 15 2022, 10:44:50) [Clang 14.0.0 (clang-1400.0.29.202)]"
  },
  "vscode": {
   "interpreter": {
    "hash": "b0fa6594d8f4cbf19f97940f81e996739fb7646882a419484c72d19e05852a7e"
   }
  }
 },
 "nbformat": 4,
 "nbformat_minor": 2
}
