{
 "cells": [
  {
   "cell_type": "markdown",
   "metadata": {},
   "source": [
    "## Lab 03.01 - Introduction to Pandas and Data Operations\n",
    "In this lab, you'll learn how to use the pandas library to analyze real-world sales data. By the end of this lab, you'll be comfortable with the fundamental operations in pandas."
   ]
  },
  {
   "cell_type": "markdown",
   "metadata": {
    "vscode": {
     "languageId": "plaintext"
    }
   },
   "source": [
    "### Part 0 - Intro to Pandas\n",
    "Before we dive into using pandas, let's understand what it is and why it's important in data science.\n",
    "\n",
    "To answer the questions, edit the markdown cell and put your answer below the question. \n",
    "\n",
    "**Make sure to save the markdown cell, by pressing the ✓ (check) icon in the top right after answering the questions**\n",
    "\n",
    "Research and critically think about the following questions:"
   ]
  },
  {
   "attachments": {},
   "cell_type": "markdown",
   "metadata": {},
   "source": [
    "##### Question 00\n",
    "What is Pandas, and what are its primary functions in data visualization for data science?\n",
    "- **Answer:** Pandas is a powerful Python library for data manipulation and analysis. Its primary functions in data visualization include data cleaning, transformation, merging, and providing data structures optimized for efficient operations on tabular and time series data.\n",
    "\n",
    "##### Question 01\n",
    "What does \"data manipulation\" mean in the context of pandas and data science field?\n",
    "- **Answer:**  In the context of pandas and data science, \"data manipulation\" refers to the process of transforming and reorganizing data to make it more suitable for analysis. This includes tasks like filtering, sorting, aggregating, and reshaping data to extract meaningful insights.\n",
    "\n",
    "##### Question 02\n",
    "What kind of files can pandas read? List at least 3:\n",
    "- **Answer:** Pandas can read various file formats, including CSV, Excel (XLS, XLSX), JSON, SQL databases, and HDF5. It also supports reading from HTML tables and clipboard data."
   ]
  },
  {
   "cell_type": "markdown",
   "metadata": {},
   "source": [
    "#### 0.0 - Hands-On Exploration\n",
    "Let's start by importing pandas and exploring its basic functionality. Type these commands and write down what you observe:\n",
    "\n",
    "First, let's install the matplotlib library, in your terminal run the following command:\n",
    "\n",
    "```bash\n",
    "pip3 install pandas\n",
    "```\n",
    "\n",
    "Once installed, let's start by importing pandas and exploring its basic functionality. "
   ]
  },
  {
   "cell_type": "code",
   "execution_count": null,
   "metadata": {},
   "outputs": [],
   "source": [
    "import pandas as pd"
   ]
  },
  {
   "cell_type": "markdown",
   "metadata": {},
   "source": [
    "Now lets run create a list, and see what happens when we use it with pandas."
   ]
  },
  {
   "cell_type": "code",
   "execution_count": null,
   "metadata": {},
   "outputs": [],
   "source": [
    "# Create a simple list of numbers\n",
    "numbers = [1, 2, 3, 4, 5]\n",
    "\n",
    "# Convert it to a pandas Series\n",
    "series = pd.Series(numbers)\n",
    "\n",
    "# Print the result\n",
    "print(series)"
   ]
  },
  {
   "attachments": {},
   "cell_type": "markdown",
   "metadata": {},
   "source": [
    "##### Question 03\n",
    "What did you notice about the output format?\n",
    "- **Answer:** The output format displays a pandas Series with an index on the left side and corresponding values on the right. This structured format allows for easy data access and manipulation.\n",
    "\n",
    "##### Question 04\n",
    "How is this different from a regular Python list? What are the numbers on the left side?\n",
    "- **Answer:** Unlike a regular Python list, the pandas Series has an index associated with each value. The numbers on the left side represent the default integer index, which allows for efficient data retrieval and alignment."
   ]
  },
  {
   "cell_type": "markdown",
   "metadata": {},
   "source": [
    "### Part 1 - Reading and Exploring Data\n",
    "\n",
    "#### 01.00 - Loading Data\n",
    "Let's start by loading our sales data that you downloaded alongside this lab. In pandas, we can read various file formats, but CSV (Comma-Separated Values) is one of the most common."
   ]
  },
  {
   "cell_type": "code",
   "execution_count": null,
   "metadata": {},
   "outputs": [],
   "source": [
    "sales_df = pd.read_csv('sales_data.csv')"
   ]
  },
  {
   "cell_type": "markdown",
   "metadata": {},
   "source": [
    "When using pandas to load data, in ingests it into what is known as a \"dataframe\", this allows us to do advanced manipulation."
   ]
  },
  {
   "cell_type": "markdown",
   "metadata": {},
   "source": [
    "#### 01.01 - Viewing Data Samples\n",
    "Let's explore the fundamental methods for understanding our data structure and content. We'll look at each method individually and understand what it tells us about our data."
   ]
  },
  {
   "cell_type": "code",
   "execution_count": null,
   "metadata": {},
   "outputs": [],
   "source": [
    "print(sales_df.head())"
   ]
  },
  {
   "cell_type": "code",
   "execution_count": null,
   "metadata": {},
   "outputs": [],
   "source": [
    "print(sales_df.tail())"
   ]
  },
  {
   "attachments": {},
   "cell_type": "markdown",
   "metadata": {},
   "source": [
    "##### Question 04\n",
    "What is the difference between the `tail()` and `head()` commands? What would be use of either command be?\n",
    "- **Answer:** The `head()` function displays the first few rows of the DataFrame, while `tail()` shows the last few rows. These commands are useful for quickly inspecting the structure and content of a dataset without loading all the data.\n",
    "\n",
    "##### Question 05\n",
    "What happens when you put a number in the `head()` function? What changed?\n",
    "- **Answer:** When you put a number in the `head()` function, it changes the number of rows displayed. For example, head(10) would show the first 10 rows instead of the default 5."
   ]
  },
  {
   "cell_type": "markdown",
   "metadata": {},
   "source": [
    "#### 01.02 - Understanding DataFrame Structure\n",
    "Let's examine the basic properties of our DataFrame:"
   ]
  },
  {
   "cell_type": "code",
   "execution_count": null,
   "metadata": {},
   "outputs": [],
   "source": [
    "print(sales_df.columns)"
   ]
  },
  {
   "cell_type": "code",
   "execution_count": null,
   "metadata": {},
   "outputs": [],
   "source": [
    "print(sales_df.dtypes)"
   ]
  },
  {
   "attachments": {},
   "cell_type": "markdown",
   "metadata": {},
   "source": [
    "##### Question 06\n",
    "Compare and contrast the outputs of the `columns` and `dtypes` properties. What is similar what is different?\n",
    "- **Answer:** The columns property shows column names, while dtypes displays data types for each column. Both provide structural information, but dtypes gives more detailed insight into data storage.\n",
    "\n",
    "##### Question 07\n",
    "What data type is the 'Date' column? Is this what you expected? \n",
    "- **Answer:** The 'Date' column is likely stored as an object data type. This might be unexpected, as dates are often stored in a specific datetime format for easier manipulation.\n",
    "\n",
    "##### Question 08\n",
    "Why might pandas choose different data types for different columns?\n",
    "- **Answer:** Pandas chooses different data types for columns to optimize memory usage and enable appropriate operations. It infers types based on the data content, selecting the most suitable type for each column."
   ]
  },
  {
   "cell_type": "markdown",
   "metadata": {},
   "source": [
    "#### 01.03 - Data Information Summary\n",
    "The `info()` method provides a concise summary of our DataFrame:"
   ]
  },
  {
   "cell_type": "code",
   "execution_count": null,
   "metadata": {},
   "outputs": [],
   "source": [
    "print(sales_df.info())"
   ]
  },
  {
   "attachments": {},
   "cell_type": "markdown",
   "metadata": {},
   "source": [
    "##### Question 09\n",
    "What information does `info()` tell us, how could this information be useful?\n",
    "- **Answer:** The `info()` method provides a concise summary of the DataFrame, including column names, non-null counts, and data types. This information is useful for quickly understanding the structure and completeness of the dataset.\n",
    "\n",
    "##### Question 10\n",
    "How much memory is our DataFrame using? \n",
    "- **Answer:** The memory usage of the DataFrame can be found in the output of the info() method. It typically shows the total memory usage in bytes or a human-readable format.\n",
    "\n",
    "##### Question 11\n",
    "What does \"null\" mean? What impact could having \"null\" values in a dataset?\n",
    "- **Answer:** \"Null\" in a dataset refers to missing or undefined values. Having null values can impact analysis by skewing results or causing errors in calculations, requiring careful handling during data preprocessing."
   ]
  },
  {
   "cell_type": "markdown",
   "metadata": {},
   "source": [
    "#### 01.04 - Numerical Summaries\n",
    "The `describe()` method provides statistical summaries for numerical columns:"
   ]
  },
  {
   "cell_type": "code",
   "execution_count": null,
   "metadata": {},
   "outputs": [],
   "source": [
    "print(sales_df.describe())"
   ]
  },
  {
   "attachments": {},
   "cell_type": "markdown",
   "metadata": {},
   "source": [
    "##### Question 12\n",
    "What statistics does the `describe()` function give us?\n",
    "- **Answer:** The describe() function provides statistical summaries including count, mean, standard deviation, minimum, maximum, and quartile values. These statistics offer a quick overview of the distribution and central tendencies of numerical data.\n",
    "\n",
    "##### Question 13\n",
    "Which columns did the `describe()` function perform statistics on? Why? (Hint: why didnt we see 'Product' in the output?)\n",
    "- **Answer:** The describe() function performs statistics on numerical columns by default. It excludes non-numeric columns like 'Product' because statistical measures aren't applicable to categorical or text data."
   ]
  },
  {
   "cell_type": "code",
   "execution_count": null,
   "metadata": {},
   "outputs": [],
   "source": [
    "print(sales_df[['Price', 'Units']].describe())"
   ]
  },
  {
   "attachments": {},
   "cell_type": "markdown",
   "metadata": {},
   "source": [
    "##### Question 14\n",
    "What is different in the codeblock above compared to the previous one. How did this affect the output?\n",
    "- **Answer:** The code block `sales_df[['Price', 'Units']].describe()` specifically selects only the 'Price' and 'Units' columns for description. This affected the output by limiting the statistical summary to just these two columns, instead of all numerical columns in the dataset."
   ]
  },
  {
   "cell_type": "code",
   "execution_count": 1,
   "metadata": {},
   "outputs": [
    {
     "ename": "NameError",
     "evalue": "name 'sales_df' is not defined",
     "output_type": "error",
     "traceback": [
      "\u001b[0;31m---------------------------------------------------------------------------\u001b[0m",
      "\u001b[0;31mNameError\u001b[0m                                 Traceback (most recent call last)",
      "Cell \u001b[0;32mIn[1], line 1\u001b[0m\n\u001b[0;32m----> 1\u001b[0m \u001b[39mprint\u001b[39m(sales_df[\u001b[39m'\u001b[39m\u001b[39mCategory\u001b[39m\u001b[39m'\u001b[39m]\u001b[39m.\u001b[39munique())\n",
      "\u001b[0;31mNameError\u001b[0m: name 'sales_df' is not defined"
     ]
    }
   ],
   "source": [
    "print(sales_df['Category'].unique())"
   ]
  },
  {
   "attachments": {},
   "cell_type": "markdown",
   "metadata": {},
   "source": [
    "##### Question 15\n",
    "How many unique product categories are in our data set?\n",
    "- **Answer:** 6"
   ]
  },
  {
   "cell_type": "code",
   "execution_count": null,
   "metadata": {},
   "outputs": [],
   "source": [
    "print(\"Output 1:\")\n",
    "print(sales_df['Category'].value_counts())\n",
    "\n",
    "print('')\n",
    "print('')\n",
    "\n",
    "print(\"Output 2:\")\n",
    "print(sales_df['Category'].value_counts(normalize=True))"
   ]
  },
  {
   "attachments": {},
   "cell_type": "markdown",
   "metadata": {},
   "source": [
    "##### Question 16\n",
    "What is the difference between the two outputs?\n",
    "- **Answer:** The difference between the two outputs is that Output 1 shows the raw count of each category, while Output 2 shows the relative frequency of each category.\n",
    "\n",
    "\n",
    "##### Question 17\n",
    "What is our most common product category?\n",
    "- **Answer:** Based on the visible data, Electronics appears to be the most common product category."
   ]
  },
  {
   "cell_type": "markdown",
   "metadata": {},
   "source": [
    "##### Excercise 00\n",
    "Using what you've learned, create a code cell direclty below this one to answer these questions:\n",
    "\n",
    "- What is the date range of our sales data? (Hint: try `min()` and `max()` functions)\n",
    "- How many unique products do we sell?\n",
    "- What is the average price by category?\n",
    "- What is our most common payment method?"
   ]
  },
  {
   "cell_type": "markdown",
   "metadata": {},
   "source": [
    "### Part 2 - Data Selection and Filtering\n",
    "\n",
    "#### 02.01 - Column Selection\n",
    "There are multiple ways to select columns in pandas. Let's explore them:"
   ]
  },
  {
   "cell_type": "code",
   "execution_count": null,
   "metadata": {},
   "outputs": [],
   "source": [
    "# Select single column\n",
    "prices = sales_df['Price']\n",
    "\n",
    "# Select multiple columns\n",
    "product_info = sales_df[['Product', 'Price', 'Units']]"
   ]
  },
  {
   "attachments": {},
   "cell_type": "markdown",
   "metadata": {},
   "source": [
    "##### Question 17\n",
    "Compare and contrast how we select multiple columns vs a single column.\n",
    "- **Answer:** To select multiple columns, we use double square brackets with a list of column names, while for a single column, we use single square brackets. This syntax difference allows for selecting either a DataFrame subset or a single Series."
   ]
  },
  {
   "cell_type": "markdown",
   "metadata": {},
   "source": [
    "##### Excercise 01\n",
    "Using what you've learned, create a code cell direclty below this one to select the 'Region' and 'Category' columns and store them in a variable called 'location_data'."
   ]
  },
  {
   "cell_type": "markdown",
   "metadata": {},
   "source": [
    "#### 02.01 - Filtering Data\n",
    "Let's learn how to filter our data based on conditions:"
   ]
  },
  {
   "cell_type": "code",
   "execution_count": null,
   "metadata": {},
   "outputs": [],
   "source": [
    "expensive_items = sales_df[sales_df['Price'] > 500]\n",
    "\n",
    "north_sales = sales_df[sales_df['Region'] == 'North']\n",
    "\n",
    "print(\"Expensive items:\")\n",
    "print(expensive_items)\n",
    "print(\"\\nNorth region sales:\")\n",
    "print(north_sales)"
   ]
  },
  {
   "attachments": {},
   "cell_type": "markdown",
   "metadata": {},
   "source": [
    "##### Question 18\n",
    "What is `sales_df['Price'] > 500` accomplishing in our code? How might we use this in data science workflows?\n",
    "- **Answer:** The code `sales_df['Price'] > 500` is creating a boolean mask that filters the DataFrame to include only rows where the price is greater than 500. This type of filtering is crucial in data science workflows for segmenting data, identifying high-value transactions, or focusing analysis on specific subsets of the data.\n",
    "\n",
    "##### Question 19\n",
    "What logic operator would we use to combine multiple conditonals when filtering columns?\n",
    "- **Answer:** o combine multiple conditionals when filtering columns, we would use logical operators such as &  or | . For example: `sales_df[(sales_df['Price'] > 500) & (sales_df['Region'] == 'North')]`"
   ]
  },
  {
   "cell_type": "markdown",
   "metadata": {},
   "source": [
    "##### Excercise 02\n",
    "Using what you've learned, create a code cell direclty below this one to create the following filters:\n",
    "- The number of units sold was greater than 5\n",
    "- The product category is 'Electronics'"
   ]
  },
  {
   "attachments": {},
   "cell_type": "markdown",
   "metadata": {},
   "source": [
    "#### Part 3 - Final Summary\n",
    "Use your experience completing this lab, and the code block below to answer the following summary questions\n",
    "\n",
    "##### Question 20\n",
    "In your own words, explain what pandas is and why it's useful for data analysis:\n",
    "- **Answer:** Pandas is a powerful Python library for data manipulation and analysis that provides data structures like DataFrames for efficiently handling structured data. It's useful for data analysis because it offers a wide range of functions for data cleaning, transformation, merging, and statistical operations, making it easier to prepare and analyze complex datasets.\n",
    "\n",
    "##### Question 21\n",
    "How many unique products are in the dataset?\n",
    "- **Answer:** The exact number of unique products is not directly visible in the provided data excerpt. To determine this, we would need to run `sales_df['Product'].nunique()` on the full dataset.\n",
    "\n",
    "##### Question 22\n",
    "What was the most popular product category in the `North` region? \n",
    "- **Answer:** This information is not directly available from the given data excerpt."
   ]
  },
  {
   "cell_type": "code",
   "execution_count": null,
   "metadata": {},
   "outputs": [],
   "source": []
  }
 ],
 "metadata": {
  "kernelspec": {
   "display_name": "Python 3",
   "language": "python",
   "name": "python3"
  },
  "language_info": {
   "codemirror_mode": {
    "name": "ipython",
    "version": 3
   },
   "file_extension": ".py",
   "mimetype": "text/x-python",
   "name": "python",
   "nbconvert_exporter": "python",
   "pygments_lexer": "ipython3",
   "version": "3.10.9"
  },
  "vscode": {
   "interpreter": {
    "hash": "b0fa6594d8f4cbf19f97940f81e996739fb7646882a419484c72d19e05852a7e"
   }
  }
 },
 "nbformat": 4,
 "nbformat_minor": 2
}
